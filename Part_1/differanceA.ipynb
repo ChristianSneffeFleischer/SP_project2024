{
 "cells": [
  {
   "cell_type": "code",
   "execution_count": 1,
   "metadata": {},
   "outputs": [],
   "source": [
    "import pandas as pd\n",
    "import numpy as np\n",
    "import statsmodels.api as sm"
   ]
  },
  {
   "cell_type": "code",
   "execution_count": 2,
   "metadata": {},
   "outputs": [],
   "source": [
    "survey_df = pd.read_excel(\"datasets/private_dataF.xlsx\")\n",
    "public_df = pd.read_excel(\"datasets/public_data_registerF.xlsx\")"
   ]
  },
  {
   "cell_type": "code",
   "execution_count": 3,
   "metadata": {},
   "outputs": [
    {
     "name": "stdout",
     "output_type": "stream",
     "text": [
      "party    Green  Invalid vote  Red  Total\n",
      "evote                                   \n",
      "Paper       74             1   41    116\n",
      "E-votes     54             4   26     84\n",
      "Total      128             5   67    200\n"
     ]
    }
   ],
   "source": [
    "survey_agg = survey_df.groupby(['evote', 'party']).size().unstack(fill_value=0)\n",
    "survey_agg['Total'] = survey_agg.sum(axis=1)\n",
    "survey_agg.loc['Total'] = survey_agg.sum()\n",
    "\n",
    "# Rename the index (assuming the index values are integers, not strings)\n",
    "survey_agg = survey_agg.rename(index={'evote': 'Votes', 0: 'Paper', 1: 'E-votes'})\n",
    "\n",
    "# Display the updated survey_agg DataFrame\n",
    "print(survey_agg)"
   ]
  },
  {
   "cell_type": "code",
   "execution_count": 4,
   "metadata": {},
   "outputs": [
    {
     "data": {
      "text/html": [
       "<div>\n",
       "<style scoped>\n",
       "    .dataframe tbody tr th:only-of-type {\n",
       "        vertical-align: middle;\n",
       "    }\n",
       "\n",
       "    .dataframe tbody tr th {\n",
       "        vertical-align: top;\n",
       "    }\n",
       "\n",
       "    .dataframe thead th {\n",
       "        text-align: right;\n",
       "    }\n",
       "</style>\n",
       "<table border=\"1\" class=\"dataframe\">\n",
       "  <thead>\n",
       "    <tr style=\"text-align: right;\">\n",
       "      <th></th>\n",
       "      <th>Votes</th>\n",
       "      <th>Red</th>\n",
       "      <th>Green</th>\n",
       "      <th>Invalid ballots</th>\n",
       "      <th>Total</th>\n",
       "    </tr>\n",
       "  </thead>\n",
       "  <tbody>\n",
       "    <tr>\n",
       "      <th>0</th>\n",
       "      <td>Polling station: ZIP 2100</td>\n",
       "      <td>12</td>\n",
       "      <td>73</td>\n",
       "      <td>6</td>\n",
       "      <td>91</td>\n",
       "    </tr>\n",
       "    <tr>\n",
       "      <th>1</th>\n",
       "      <td>Polling station: ZIP 2200</td>\n",
       "      <td>56</td>\n",
       "      <td>100</td>\n",
       "      <td>2</td>\n",
       "      <td>158</td>\n",
       "    </tr>\n",
       "    <tr>\n",
       "      <th>2</th>\n",
       "      <td>Polling station: ZIP 2300</td>\n",
       "      <td>77</td>\n",
       "      <td>99</td>\n",
       "      <td>3</td>\n",
       "      <td>179</td>\n",
       "    </tr>\n",
       "    <tr>\n",
       "      <th>3</th>\n",
       "      <td>Polling station: ZIP 2400</td>\n",
       "      <td>79</td>\n",
       "      <td>111</td>\n",
       "      <td>1</td>\n",
       "      <td>191</td>\n",
       "    </tr>\n",
       "    <tr>\n",
       "      <th>4</th>\n",
       "      <td>E-votes</td>\n",
       "      <td>142</td>\n",
       "      <td>240</td>\n",
       "      <td>10</td>\n",
       "      <td>392</td>\n",
       "    </tr>\n",
       "    <tr>\n",
       "      <th>5</th>\n",
       "      <td>Total</td>\n",
       "      <td>366</td>\n",
       "      <td>623</td>\n",
       "      <td>22</td>\n",
       "      <td>1011</td>\n",
       "    </tr>\n",
       "  </tbody>\n",
       "</table>\n",
       "</div>"
      ],
      "text/plain": [
       "                       Votes  Red  Green  Invalid ballots  Total\n",
       "0  Polling station: ZIP 2100   12     73                6     91\n",
       "1  Polling station: ZIP 2200   56    100                2    158\n",
       "2  Polling station: ZIP 2300   77     99                3    179\n",
       "3  Polling station: ZIP 2400   79    111                1    191\n",
       "4                    E-votes  142    240               10    392\n",
       "5                      Total  366    623               22   1011"
      ]
     },
     "execution_count": 4,
     "metadata": {},
     "output_type": "execute_result"
    }
   ],
   "source": [
    "data_results = pd.read_excel(\"datasets/public_data_resultsF.xlsx\")\n",
    "data_results.rename(columns = {'Unnamed: 0':'Votes'}, \n",
    "            inplace = True)\n",
    "data_results "
   ]
  },
  {
   "cell_type": "code",
   "execution_count": 5,
   "metadata": {},
   "outputs": [
    {
     "data": {
      "text/plain": [
       "party\n",
       "Green           128\n",
       "Red              67\n",
       "Invalid vote      5\n",
       "Name: count, dtype: int64"
      ]
     },
     "execution_count": 5,
     "metadata": {},
     "output_type": "execute_result"
    }
   ],
   "source": [
    "#sum of votes for each party in the survey\n",
    "survey_total = survey_df['party'].value_counts()\n",
    "# amount of votes for each party from the public results on paper or online\n",
    "results = data_results.tail(2)\n",
    "survey_total"
   ]
  },
  {
   "cell_type": "code",
   "execution_count": 6,
   "metadata": {},
   "outputs": [],
   "source": [
    "survey_total = survey_total.to_frame().transpose()"
   ]
  },
  {
   "cell_type": "code",
   "execution_count": 7,
   "metadata": {},
   "outputs": [],
   "source": [
    "results.set_index('Votes', inplace=True)"
   ]
  },
  {
   "cell_type": "code",
   "execution_count": 8,
   "metadata": {},
   "outputs": [
    {
     "data": {
      "text/html": [
       "<div>\n",
       "<style scoped>\n",
       "    .dataframe tbody tr th:only-of-type {\n",
       "        vertical-align: middle;\n",
       "    }\n",
       "\n",
       "    .dataframe tbody tr th {\n",
       "        vertical-align: top;\n",
       "    }\n",
       "\n",
       "    .dataframe thead th {\n",
       "        text-align: right;\n",
       "    }\n",
       "</style>\n",
       "<table border=\"1\" class=\"dataframe\">\n",
       "  <thead>\n",
       "    <tr style=\"text-align: right;\">\n",
       "      <th>party</th>\n",
       "      <th>Green</th>\n",
       "      <th>Red</th>\n",
       "      <th>Invalid vote</th>\n",
       "    </tr>\n",
       "  </thead>\n",
       "  <tbody>\n",
       "    <tr>\n",
       "      <th>Total</th>\n",
       "      <td>128</td>\n",
       "      <td>67</td>\n",
       "      <td>5</td>\n",
       "    </tr>\n",
       "  </tbody>\n",
       "</table>\n",
       "</div>"
      ],
      "text/plain": [
       "party  Green  Red  Invalid vote\n",
       "Total    128   67             5"
      ]
     },
     "execution_count": 8,
     "metadata": {},
     "output_type": "execute_result"
    }
   ],
   "source": [
    "survey_total\n",
    "survey_total.rename(index={'count':'Total'}, inplace=True)\n",
    "survey_total"
   ]
  },
  {
   "cell_type": "code",
   "execution_count": 9,
   "metadata": {},
   "outputs": [
    {
     "name": "stderr",
     "output_type": "stream",
     "text": [
      "/var/folders/c1/phfhvpvx33z0wfs1rywcsz140000gn/T/ipykernel_80977/3491905120.py:1: SettingWithCopyWarning: \n",
      "A value is trying to be set on a copy of a slice from a DataFrame\n",
      "\n",
      "See the caveats in the documentation: https://pandas.pydata.org/pandas-docs/stable/user_guide/indexing.html#returning-a-view-versus-a-copy\n",
      "  results.loc['Paper'] = results.loc['Total'] - results.loc['E-votes']\n",
      "/var/folders/c1/phfhvpvx33z0wfs1rywcsz140000gn/T/ipykernel_80977/3491905120.py:2: SettingWithCopyWarning: \n",
      "A value is trying to be set on a copy of a slice from a DataFrame\n",
      "\n",
      "See the caveats in the documentation: https://pandas.pydata.org/pandas-docs/stable/user_guide/indexing.html#returning-a-view-versus-a-copy\n",
      "  results.rename(columns={\n"
     ]
    },
    {
     "data": {
      "text/html": [
       "<div>\n",
       "<style scoped>\n",
       "    .dataframe tbody tr th:only-of-type {\n",
       "        vertical-align: middle;\n",
       "    }\n",
       "\n",
       "    .dataframe tbody tr th {\n",
       "        vertical-align: top;\n",
       "    }\n",
       "\n",
       "    .dataframe thead th {\n",
       "        text-align: right;\n",
       "    }\n",
       "</style>\n",
       "<table border=\"1\" class=\"dataframe\">\n",
       "  <thead>\n",
       "    <tr style=\"text-align: right;\">\n",
       "      <th></th>\n",
       "      <th>Red</th>\n",
       "      <th>Green</th>\n",
       "      <th>Invalid vote</th>\n",
       "      <th>Total</th>\n",
       "    </tr>\n",
       "    <tr>\n",
       "      <th>Votes</th>\n",
       "      <th></th>\n",
       "      <th></th>\n",
       "      <th></th>\n",
       "      <th></th>\n",
       "    </tr>\n",
       "  </thead>\n",
       "  <tbody>\n",
       "    <tr>\n",
       "      <th>E-votes</th>\n",
       "      <td>142</td>\n",
       "      <td>240</td>\n",
       "      <td>10</td>\n",
       "      <td>392</td>\n",
       "    </tr>\n",
       "    <tr>\n",
       "      <th>Total</th>\n",
       "      <td>366</td>\n",
       "      <td>623</td>\n",
       "      <td>22</td>\n",
       "      <td>1011</td>\n",
       "    </tr>\n",
       "    <tr>\n",
       "      <th>Paper</th>\n",
       "      <td>224</td>\n",
       "      <td>383</td>\n",
       "      <td>12</td>\n",
       "      <td>619</td>\n",
       "    </tr>\n",
       "  </tbody>\n",
       "</table>\n",
       "</div>"
      ],
      "text/plain": [
       "         Red  Green  Invalid vote  Total\n",
       "Votes                                   \n",
       "E-votes  142    240            10    392\n",
       "Total    366    623            22   1011\n",
       "Paper    224    383            12    619"
      ]
     },
     "execution_count": 9,
     "metadata": {},
     "output_type": "execute_result"
    }
   ],
   "source": [
    "results.loc['Paper'] = results.loc['Total'] - results.loc['E-votes']\n",
    "results.rename(columns={\n",
    "\n",
    "    'Invalid ballots': 'Invalid vote'\n",
    "}, inplace=True)\n",
    "results\n"
   ]
  },
  {
   "cell_type": "markdown",
   "metadata": {},
   "source": [
    "0: vote cast on paper (polling station)\n",
    "1: vote cast electronically"
   ]
  },
  {
   "cell_type": "markdown",
   "metadata": {},
   "source": [
    "Categorical data (party preference distributions) --> Chi-Square test of independence for analysis"
   ]
  },
  {
   "cell_type": "code",
   "execution_count": 10,
   "metadata": {},
   "outputs": [],
   "source": [
    "from scipy.stats import chi2_contingency\n",
    "from scipy.stats import ttest_ind"
   ]
  },
  {
   "cell_type": "code",
   "execution_count": 11,
   "metadata": {},
   "outputs": [],
   "source": [
    "# Create a contingency table for the Chi-Square test\n",
    "contingency_table = pd.concat([survey_agg.loc[['Paper', 'E-votes'], ['Green', 'Red', 'Invalid vote']],\n",
    "                               results.loc[['Paper', 'E-votes'], ['Green', 'Red', 'Invalid vote']]])"
   ]
  },
  {
   "cell_type": "code",
   "execution_count": 12,
   "metadata": {},
   "outputs": [
    {
     "data": {
      "text/html": [
       "<div>\n",
       "<style scoped>\n",
       "    .dataframe tbody tr th:only-of-type {\n",
       "        vertical-align: middle;\n",
       "    }\n",
       "\n",
       "    .dataframe tbody tr th {\n",
       "        vertical-align: top;\n",
       "    }\n",
       "\n",
       "    .dataframe thead th {\n",
       "        text-align: right;\n",
       "    }\n",
       "</style>\n",
       "<table border=\"1\" class=\"dataframe\">\n",
       "  <thead>\n",
       "    <tr style=\"text-align: right;\">\n",
       "      <th></th>\n",
       "      <th>Green</th>\n",
       "      <th>Red</th>\n",
       "      <th>Invalid vote</th>\n",
       "    </tr>\n",
       "  </thead>\n",
       "  <tbody>\n",
       "    <tr>\n",
       "      <th>Paper</th>\n",
       "      <td>74</td>\n",
       "      <td>41</td>\n",
       "      <td>1</td>\n",
       "    </tr>\n",
       "    <tr>\n",
       "      <th>E-votes</th>\n",
       "      <td>54</td>\n",
       "      <td>26</td>\n",
       "      <td>4</td>\n",
       "    </tr>\n",
       "    <tr>\n",
       "      <th>Paper</th>\n",
       "      <td>383</td>\n",
       "      <td>224</td>\n",
       "      <td>12</td>\n",
       "    </tr>\n",
       "    <tr>\n",
       "      <th>E-votes</th>\n",
       "      <td>240</td>\n",
       "      <td>142</td>\n",
       "      <td>10</td>\n",
       "    </tr>\n",
       "  </tbody>\n",
       "</table>\n",
       "</div>"
      ],
      "text/plain": [
       "         Green  Red  Invalid vote\n",
       "Paper       74   41             1\n",
       "E-votes     54   26             4\n",
       "Paper      383  224            12\n",
       "E-votes    240  142            10"
      ]
     },
     "execution_count": 12,
     "metadata": {},
     "output_type": "execute_result"
    }
   ],
   "source": [
    "contingency_table"
   ]
  },
  {
   "cell_type": "code",
   "execution_count": 13,
   "metadata": {},
   "outputs": [
    {
     "name": "stdout",
     "output_type": "stream",
     "text": [
      "Chi-Square Statistic: 4.580018935027159\n",
      "P-Value: 0.5986898719363387\n"
     ]
    }
   ],
   "source": [
    "# Chi-Square test\n",
    "chi2, p, dof, expected = chi2_contingency(contingency_table)\n",
    "\n",
    "\n",
    "print(f\"Chi-Square Statistic: {chi2}\")\n",
    "print(f\"P-Value: {p}\")"
   ]
  },
  {
   "cell_type": "code",
   "execution_count": 14,
   "metadata": {},
   "outputs": [],
   "source": [
    "# Anonimyzed data\n",
    "file_path = 'anonymized_dataF.csv' \n",
    "df = pd.read_csv(file_path)"
   ]
  },
  {
   "cell_type": "code",
   "execution_count": 15,
   "metadata": {},
   "outputs": [
    {
     "name": "stdout",
     "output_type": "stream",
     "text": [
      "party    Green  Invalid vote  Red  Total\n",
      "evote                                   \n",
      "Paper       74             1   41    116\n",
      "E-votes     54             4   26     84\n",
      "Total      128             5   67    200\n"
     ]
    }
   ],
   "source": [
    "df_agg = df.groupby(['evote', 'party']).size().unstack(fill_value=0)\n",
    "df_agg['Total'] = df_agg.sum(axis=1)\n",
    "df_agg.loc['Total'] = df_agg.sum()\n",
    "\n",
    "# Rename the index (assuming the index values are integers, not strings)\n",
    "df_agg = df_agg.rename(index={'evote': 'Votes', 0: 'Paper', 1: 'E-votes'})\n",
    "\n",
    "# Display the updated survey_agg DataFrame\n",
    "print(df_agg)"
   ]
  },
  {
   "cell_type": "code",
   "execution_count": 16,
   "metadata": {},
   "outputs": [],
   "source": [
    "contingency_table_anonim = pd.concat([df_agg.loc[['Paper', 'E-votes'], ['Green', 'Red', 'Invalid vote']],\n",
    "                               results.loc[['Paper', 'E-votes'], ['Green', 'Red', 'Invalid vote']]])"
   ]
  },
  {
   "cell_type": "code",
   "execution_count": 17,
   "metadata": {},
   "outputs": [
    {
     "name": "stdout",
     "output_type": "stream",
     "text": [
      "Chi-Square Statistic: 4.580018935027159\n",
      "P-Value: 0.5986898719363387\n"
     ]
    }
   ],
   "source": [
    "# Chi-Square test\n",
    "chi2, p, dof, expected = chi2_contingency(contingency_table_anonim)\n",
    "\n",
    "\n",
    "print(f\"Chi-Square Statistic: {chi2}\")\n",
    "print(f\"P-Value: {p}\")"
   ]
  }
 ],
 "metadata": {
  "kernelspec": {
   "display_name": "base",
   "language": "python",
   "name": "python3"
  },
  "language_info": {
   "codemirror_mode": {
    "name": "ipython",
    "version": 3
   },
   "file_extension": ".py",
   "mimetype": "text/x-python",
   "name": "python",
   "nbconvert_exporter": "python",
   "pygments_lexer": "ipython3",
   "version": "3.11.7"
  },
  "orig_nbformat": 4
 },
 "nbformat": 4,
 "nbformat_minor": 2
}
